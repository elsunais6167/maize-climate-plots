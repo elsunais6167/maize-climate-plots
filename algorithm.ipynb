{
 "cells": [
  {
   "cell_type": "code",
   "execution_count": 1,
   "metadata": {},
   "outputs": [],
   "source": [
    "import pandas as pd\n",
    "import matplotlib.pyplot as plt\n",
    "import seaborn as sm\n",
    "from locale import normalize"
   ]
  },
  {
   "cell_type": "code",
   "execution_count": 2,
   "metadata": {},
   "outputs": [
    {
     "data": {
      "text/html": [
       "<div>\n",
       "<style scoped>\n",
       "    .dataframe tbody tr th:only-of-type {\n",
       "        vertical-align: middle;\n",
       "    }\n",
       "\n",
       "    .dataframe tbody tr th {\n",
       "        vertical-align: top;\n",
       "    }\n",
       "\n",
       "    .dataframe thead th {\n",
       "        text-align: right;\n",
       "    }\n",
       "</style>\n",
       "<table border=\"1\" class=\"dataframe\">\n",
       "  <thead>\n",
       "    <tr style=\"text-align: right;\">\n",
       "      <th></th>\n",
       "      <th>Timestamp</th>\n",
       "      <th>lga</th>\n",
       "      <th>gender</th>\n",
       "      <th>age</th>\n",
       "      <th>education</th>\n",
       "      <th>do you own land</th>\n",
       "      <th>how did you acquire farming land</th>\n",
       "      <th>7- Size of your farm?</th>\n",
       "      <th>8- Core sources of income?</th>\n",
       "      <th>9- Level of income per month in Nigerian naira?</th>\n",
       "      <th>...</th>\n",
       "      <th>3- . If yes, which of the following adaptation (climate-smart) practices in your farming activities are you cognizant of, practice, and have the knowledge of?  [Combined crop and livestock systems]</th>\n",
       "      <th>3- . If yes, which of the following adaptation (climate-smart) practices in your farming activities are you cognizant of, practice, and have the knowledge of?  [Using seasonal weather predictions]</th>\n",
       "      <th>3- . If yes, which of the following adaptation (climate-smart) practices in your farming activities are you cognizant of, practice, and have the knowledge of?  [Agroforestry]</th>\n",
       "      <th>3- . If yes, which of the following adaptation (climate-smart) practices in your farming activities are you cognizant of, practice, and have the knowledge of?  [Crop rotation]</th>\n",
       "      <th>3- . If yes, which of the following adaptation (climate-smart) practices in your farming activities are you cognizant of, practice, and have the knowledge of?  [Rainwater harvesting]</th>\n",
       "      <th>3- . If yes, which of the following adaptation (climate-smart) practices in your farming activities are you cognizant of, practice, and have the knowledge of?  [Irrigation using effective technology]</th>\n",
       "      <th>3- . If yes, which of the following adaptation (climate-smart) practices in your farming activities are you cognizant of, practice, and have the knowledge of?  [Farmyard composting]</th>\n",
       "      <th>3- . If yes, which of the following adaptation (climate-smart) practices in your farming activities are you cognizant of, practice, and have the knowledge of?  [Preservation of hay during the dry season]</th>\n",
       "      <th>3- . If yes, which of the following adaptation (climate-smart) practices in your farming activities are you cognizant of, practice, and have the knowledge of?  [Use of organic manure &amp; chemical fertilizer]</th>\n",
       "      <th>3- . If yes, which of the following adaptation (climate-smart) practices in your farming activities are you cognizant of, practice, and have the knowledge of?  [Other, specify]</th>\n",
       "    </tr>\n",
       "  </thead>\n",
       "  <tbody>\n",
       "    <tr>\n",
       "      <th>0</th>\n",
       "      <td>6/14/2022 12:44</td>\n",
       "      <td>NaN</td>\n",
       "      <td>Female</td>\n",
       "      <td>20 – 40</td>\n",
       "      <td>Primary school education</td>\n",
       "      <td>No</td>\n",
       "      <td>Rented</td>\n",
       "      <td>50 – 200ft</td>\n",
       "      <td>Farm income</td>\n",
       "      <td>&lt; 10000</td>\n",
       "      <td>...</td>\n",
       "      <td>NaN</td>\n",
       "      <td>NaN</td>\n",
       "      <td>NaN</td>\n",
       "      <td>NaN</td>\n",
       "      <td>NaN</td>\n",
       "      <td>NaN</td>\n",
       "      <td>NaN</td>\n",
       "      <td>NaN</td>\n",
       "      <td>NaN</td>\n",
       "      <td>NaN</td>\n",
       "    </tr>\n",
       "    <tr>\n",
       "      <th>1</th>\n",
       "      <td>6/15/2022 0:07</td>\n",
       "      <td>Soba</td>\n",
       "      <td>Male</td>\n",
       "      <td>20 – 40</td>\n",
       "      <td>Tertiary Education</td>\n",
       "      <td>Yes</td>\n",
       "      <td>Bought</td>\n",
       "      <td>50 – 200ft</td>\n",
       "      <td>Non-farm income (employment, business, etc)</td>\n",
       "      <td>Above 10000</td>\n",
       "      <td>...</td>\n",
       "      <td>NaN</td>\n",
       "      <td>NaN</td>\n",
       "      <td>NaN</td>\n",
       "      <td>NaN</td>\n",
       "      <td>NaN</td>\n",
       "      <td>NaN</td>\n",
       "      <td>NaN</td>\n",
       "      <td>NaN</td>\n",
       "      <td>NaN</td>\n",
       "      <td>NaN</td>\n",
       "    </tr>\n",
       "    <tr>\n",
       "      <th>2</th>\n",
       "      <td>6/17/2022 18:54</td>\n",
       "      <td>Jema'a</td>\n",
       "      <td>Male</td>\n",
       "      <td>20 – 40</td>\n",
       "      <td>Primary school education</td>\n",
       "      <td>Yes</td>\n",
       "      <td>Inherited</td>\n",
       "      <td>50 – 200ha</td>\n",
       "      <td>Non-farm income (employment, business, etc)</td>\n",
       "      <td>&lt; 10000</td>\n",
       "      <td>...</td>\n",
       "      <td>Aware (Yes)</td>\n",
       "      <td>Aware (No)</td>\n",
       "      <td>Aware (Yes)</td>\n",
       "      <td>Aware (Yes)</td>\n",
       "      <td>Aware (Yes)</td>\n",
       "      <td>None</td>\n",
       "      <td>Aware (Yes)</td>\n",
       "      <td>Aware (No)</td>\n",
       "      <td>None</td>\n",
       "      <td>Aware (Yes)</td>\n",
       "    </tr>\n",
       "    <tr>\n",
       "      <th>3</th>\n",
       "      <td>6/17/2022 20:54</td>\n",
       "      <td>Ikara</td>\n",
       "      <td>Male</td>\n",
       "      <td>above 40</td>\n",
       "      <td>Primary school education</td>\n",
       "      <td>No</td>\n",
       "      <td>Rented</td>\n",
       "      <td>50 – 200ha</td>\n",
       "      <td>Farm income</td>\n",
       "      <td>Above 10000</td>\n",
       "      <td>...</td>\n",
       "      <td>Knowledge (No)</td>\n",
       "      <td>Knowledge (No)</td>\n",
       "      <td>None</td>\n",
       "      <td>Knowledge (Yes)</td>\n",
       "      <td>Aware (Yes)</td>\n",
       "      <td>Aware (Yes)</td>\n",
       "      <td>None</td>\n",
       "      <td>Aware (Yes)</td>\n",
       "      <td>Aware (No)</td>\n",
       "      <td>None</td>\n",
       "    </tr>\n",
       "    <tr>\n",
       "      <th>4</th>\n",
       "      <td>6/18/2022 5:04</td>\n",
       "      <td>Kubau</td>\n",
       "      <td>Male</td>\n",
       "      <td>above 40</td>\n",
       "      <td>Secondary School education</td>\n",
       "      <td>Yes</td>\n",
       "      <td>Inherited</td>\n",
       "      <td>Above 200ha</td>\n",
       "      <td>Farm income</td>\n",
       "      <td>&lt; 10000</td>\n",
       "      <td>...</td>\n",
       "      <td>Aware (Yes)</td>\n",
       "      <td>None</td>\n",
       "      <td>None</td>\n",
       "      <td>Practice (Yes)</td>\n",
       "      <td>None</td>\n",
       "      <td>Practice (Yes)</td>\n",
       "      <td>Practice (Yes)</td>\n",
       "      <td>Practice (Yes)</td>\n",
       "      <td>Practice (Yes)</td>\n",
       "      <td>None</td>\n",
       "    </tr>\n",
       "  </tbody>\n",
       "</table>\n",
       "<p>5 rows × 52 columns</p>\n",
       "</div>"
      ],
      "text/plain": [
       "         Timestamp     lga  gender       age                   education  \\\n",
       "0  6/14/2022 12:44     NaN  Female   20 – 40    Primary school education   \n",
       "1   6/15/2022 0:07    Soba    Male   20 – 40          Tertiary Education   \n",
       "2  6/17/2022 18:54  Jema'a    Male   20 – 40    Primary school education   \n",
       "3  6/17/2022 20:54   Ikara    Male  above 40    Primary school education   \n",
       "4   6/18/2022 5:04   Kubau    Male  above 40  Secondary School education   \n",
       "\n",
       "  do you own land how did you acquire farming land 7- Size of your farm?  \\\n",
       "0              No                           Rented            50 – 200ft   \n",
       "1             Yes                           Bought            50 – 200ft   \n",
       "2             Yes                        Inherited            50 – 200ha   \n",
       "3              No                           Rented            50 – 200ha   \n",
       "4             Yes                        Inherited           Above 200ha   \n",
       "\n",
       "                    8- Core sources of income?  \\\n",
       "0                                  Farm income   \n",
       "1  Non-farm income (employment, business, etc)   \n",
       "2  Non-farm income (employment, business, etc)   \n",
       "3                                  Farm income   \n",
       "4                                  Farm income   \n",
       "\n",
       "  9- Level of income per month in Nigerian naira?  ...  \\\n",
       "0                                         < 10000  ...   \n",
       "1                                     Above 10000  ...   \n",
       "2                                         < 10000  ...   \n",
       "3                                     Above 10000  ...   \n",
       "4                                         < 10000  ...   \n",
       "\n",
       "  3- . If yes, which of the following adaptation (climate-smart) practices in your farming activities are you cognizant of, practice, and have the knowledge of?  [Combined crop and livestock systems]  \\\n",
       "0                                                NaN                                                                                                                                                      \n",
       "1                                                NaN                                                                                                                                                      \n",
       "2                                        Aware (Yes)                                                                                                                                                      \n",
       "3                                     Knowledge (No)                                                                                                                                                      \n",
       "4                                        Aware (Yes)                                                                                                                                                      \n",
       "\n",
       "  3- . If yes, which of the following adaptation (climate-smart) practices in your farming activities are you cognizant of, practice, and have the knowledge of?  [Using seasonal weather predictions]  \\\n",
       "0                                                NaN                                                                                                                                                     \n",
       "1                                                NaN                                                                                                                                                     \n",
       "2                                         Aware (No)                                                                                                                                                     \n",
       "3                                     Knowledge (No)                                                                                                                                                     \n",
       "4                                               None                                                                                                                                                     \n",
       "\n",
       "  3- . If yes, which of the following adaptation (climate-smart) practices in your farming activities are you cognizant of, practice, and have the knowledge of?  [Agroforestry]  \\\n",
       "0                                                NaN                                                                                                                               \n",
       "1                                                NaN                                                                                                                               \n",
       "2                                        Aware (Yes)                                                                                                                               \n",
       "3                                               None                                                                                                                               \n",
       "4                                               None                                                                                                                               \n",
       "\n",
       "  3- . If yes, which of the following adaptation (climate-smart) practices in your farming activities are you cognizant of, practice, and have the knowledge of?  [Crop rotation]  \\\n",
       "0                                                NaN                                                                                                                                \n",
       "1                                                NaN                                                                                                                                \n",
       "2                                        Aware (Yes)                                                                                                                                \n",
       "3                                    Knowledge (Yes)                                                                                                                                \n",
       "4                                     Practice (Yes)                                                                                                                                \n",
       "\n",
       "  3- . If yes, which of the following adaptation (climate-smart) practices in your farming activities are you cognizant of, practice, and have the knowledge of?  [Rainwater harvesting]  \\\n",
       "0                                                NaN                                                                                                                                       \n",
       "1                                                NaN                                                                                                                                       \n",
       "2                                        Aware (Yes)                                                                                                                                       \n",
       "3                                        Aware (Yes)                                                                                                                                       \n",
       "4                                               None                                                                                                                                       \n",
       "\n",
       "  3- . If yes, which of the following adaptation (climate-smart) practices in your farming activities are you cognizant of, practice, and have the knowledge of?  [Irrigation using effective technology]  \\\n",
       "0                                                NaN                                                                                                                                                        \n",
       "1                                                NaN                                                                                                                                                        \n",
       "2                                               None                                                                                                                                                        \n",
       "3                                        Aware (Yes)                                                                                                                                                        \n",
       "4                                     Practice (Yes)                                                                                                                                                        \n",
       "\n",
       "  3- . If yes, which of the following adaptation (climate-smart) practices in your farming activities are you cognizant of, practice, and have the knowledge of?  [Farmyard composting]  \\\n",
       "0                                                NaN                                                                                                                                      \n",
       "1                                                NaN                                                                                                                                      \n",
       "2                                        Aware (Yes)                                                                                                                                      \n",
       "3                                               None                                                                                                                                      \n",
       "4                                     Practice (Yes)                                                                                                                                      \n",
       "\n",
       "  3- . If yes, which of the following adaptation (climate-smart) practices in your farming activities are you cognizant of, practice, and have the knowledge of?  [Preservation of hay during the dry season]  \\\n",
       "0                                                NaN                                                                                                                                                            \n",
       "1                                                NaN                                                                                                                                                            \n",
       "2                                         Aware (No)                                                                                                                                                            \n",
       "3                                        Aware (Yes)                                                                                                                                                            \n",
       "4                                     Practice (Yes)                                                                                                                                                            \n",
       "\n",
       "  3- . If yes, which of the following adaptation (climate-smart) practices in your farming activities are you cognizant of, practice, and have the knowledge of?  [Use of organic manure & chemical fertilizer]  \\\n",
       "0                                                NaN                                                                                                                                                              \n",
       "1                                                NaN                                                                                                                                                              \n",
       "2                                               None                                                                                                                                                              \n",
       "3                                         Aware (No)                                                                                                                                                              \n",
       "4                                     Practice (Yes)                                                                                                                                                              \n",
       "\n",
       "  3- . If yes, which of the following adaptation (climate-smart) practices in your farming activities are you cognizant of, practice, and have the knowledge of?  [Other, specify]  \n",
       "0                                                NaN                                                                                                                                \n",
       "1                                                NaN                                                                                                                                \n",
       "2                                        Aware (Yes)                                                                                                                                \n",
       "3                                               None                                                                                                                                \n",
       "4                                               None                                                                                                                                \n",
       "\n",
       "[5 rows x 52 columns]"
      ]
     },
     "execution_count": 2,
     "metadata": {},
     "output_type": "execute_result"
    }
   ],
   "source": [
    "data = pd.read_csv('pivot.csv')\n",
    "data.head(5)"
   ]
  },
  {
   "cell_type": "code",
   "execution_count": 3,
   "metadata": {},
   "outputs": [
    {
     "name": "stdout",
     "output_type": "stream",
     "text": [
      "              Response  Percentage\n",
      "Kubau               22   10.138249\n",
      "Zaria               18    8.294931\n",
      "Kagarko             13    5.990783\n",
      "Jema'a              11    5.069124\n",
      "Chikun              10    4.608295\n",
      "Ikara               10    4.608295\n",
      "Makarfi             10    4.608295\n",
      "Giwa                10    4.608295\n",
      "Igabi               10    4.608295\n",
      "Kaduna North        10    4.608295\n",
      "ZangonKataf         10    4.608295\n",
      "Kachia              10    4.608295\n",
      "Jaba                10    4.608295\n",
      "Sabon Gari           9    4.147465\n",
      "Lere                 9    4.147465\n",
      "Kaura                8    3.686636\n",
      "Kaduna South         8    3.686636\n",
      "BirninGwari          7    3.225806\n",
      "Soba                 7    3.225806\n",
      "Sanga                6    2.764977\n",
      "Kudan                5    2.304147\n",
      "Kauru                4    1.843318\n"
     ]
    },
    {
     "data": {
      "image/png": "[encoded data removed]",
      "text/plain": [
       "<Figure size 432x288 with 1 Axes>"
      ]
     },
     "metadata": {
      "needs_background": "light"
     },
     "output_type": "display_data"
    }
   ],
   "source": [
    "m = data.lga.value_counts()\n",
    "f = data.lga.value_counts(normalize = True)\n",
    "lga = pd.concat([m,f], axis=1, keys=['Response', 'Percentage'])\n",
    "lga['Percentage'] = lga.Percentage*100\n",
    "print(lga)\n",
    "\n",
    "\n",
    "plot = lga.plot.bar(y='Response')\n"
   ]
  },
  {
   "cell_type": "code",
   "execution_count": 4,
   "metadata": {},
   "outputs": [
    {
     "name": "stdout",
     "output_type": "stream",
     "text": [
      "        Response  Percentage\n",
      "Male         205   94.036697\n",
      "Female        13    5.963303\n"
     ]
    },
    {
     "data": {
      "image/png": "[encoded data removed]",
      "text/plain": [
       "<Figure size 360x360 with 1 Axes>"
      ]
     },
     "metadata": {},
     "output_type": "display_data"
    }
   ],
   "source": [
    "m = data.gender.value_counts()\n",
    "f = data.gender.value_counts(normalize = True)\n",
    "gender = pd.concat([m,f], axis=1, keys=['Response', 'Percentage'])\n",
    "gender['Percentage'] = gender.Percentage*100\n",
    "print(gender)\n",
    "\n",
    "\n",
    "plot = gender.plot.pie(y='Response', autopct='%.2f', figsize=(5,5))"
   ]
  },
  {
   "cell_type": "code",
   "execution_count": 5,
   "metadata": {},
   "outputs": [
    {
     "name": "stdout",
     "output_type": "stream",
     "text": [
      "The Age of the Respondents\n",
      "          Response  Percentage\n",
      "20 – 40        110   50.458716\n",
      "above 40       108   49.541284\n"
     ]
    },
    {
     "data": {
      "image/png": "[encoded data removed]",
      "text/plain": [
       "<Figure size 360x360 with 1 Axes>"
      ]
     },
     "metadata": {},
     "output_type": "display_data"
    }
   ],
   "source": [
    "m = data.age.value_counts()\n",
    "f = data.age.value_counts(normalize = True)\n",
    "age = pd.concat([m,f], axis=1, keys=['Response', 'Percentage'])\n",
    "age['Percentage'] = age.Percentage*100\n",
    "print('The Age of the Respondents')\n",
    "print(age)\n",
    "\n",
    "\n",
    "plot = age.plot.pie(y='Response', autopct='%.2f', figsize=(5,5))\n"
   ]
  },
  {
   "cell_type": "code",
   "execution_count": 6,
   "metadata": {},
   "outputs": [
    {
     "name": "stdout",
     "output_type": "stream",
     "text": [
      "                            Responses  Percentage\n",
      "Tertiary Education                 91   41.743119\n",
      "Primary school education           71   32.568807\n",
      "Arabic Education                   29   13.302752\n",
      "Secondary School education         27   12.385321\n"
     ]
    },
    {
     "data": {
      "image/png": "[encoded data removed]",
      "text/plain": [
       "<Figure size 432x288 with 1 Axes>"
      ]
     },
     "metadata": {
      "needs_background": "light"
     },
     "output_type": "display_data"
    }
   ],
   "source": [
    "m = data.education.value_counts()\n",
    "f = data.education.value_counts(normalize = True)\n",
    "education = pd.concat([m,f], axis=1, keys=['Responses', 'Percentage'])\n",
    "education['Percentage'] = education.Percentage*100\n",
    "print(education)\n",
    "\n",
    "\n",
    "plot = education.plot.barh(y='Responses')\n"
   ]
  },
  {
   "cell_type": "code",
   "execution_count": 7,
   "metadata": {},
   "outputs": [
    {
     "name": "stdout",
     "output_type": "stream",
     "text": [
      "Do you own land?\n",
      "     Responses  Percentage\n",
      "Yes        125    57.33945\n",
      "No          93    42.66055\n"
     ]
    },
    {
     "data": {
      "image/png": "[encoded data removed]",
      "text/plain": [
       "<Figure size 360x360 with 1 Axes>"
      ]
     },
     "metadata": {},
     "output_type": "display_data"
    }
   ],
   "source": [
    "m = data['do you own land'].value_counts()\n",
    "f = data['do you own land'].value_counts(normalize = True)\n",
    "land = pd.concat([m,f], axis=1, keys=['Responses', 'Percentage'])\n",
    "land['Percentage'] = land.Percentage*100\n",
    "print('Do you own land?')\n",
    "print(land)\n",
    "\n",
    "plot = land.plot.pie(y='Responses', autopct='%.2f', figsize=(5,5))"
   ]
  },
  {
   "cell_type": "code",
   "execution_count": 8,
   "metadata": {},
   "outputs": [
    {
     "name": "stdout",
     "output_type": "stream",
     "text": [
      "How did you acquire farming land?\n",
      "           Responses  Percentage\n",
      "Inherited        101   46.330275\n",
      "Rented            93   42.660550\n",
      "Bought            24   11.009174\n"
     ]
    },
    {
     "data": {
      "image/png": "[encoded data removed]",
      "text/plain": [
       "<Figure size 432x288 with 1 Axes>"
      ]
     },
     "metadata": {
      "needs_background": "light"
     },
     "output_type": "display_data"
    }
   ],
   "source": [
    "m = data['how did you acquire farming land'].value_counts()\n",
    "f = data['how did you acquire farming land'].value_counts(normalize = True)\n",
    "acqland = pd.concat([m,f], axis=1, keys=['Responses', 'Percentage'])\n",
    "acqland['Percentage'] = acqland.Percentage*100\n",
    "print('How did you acquire farming land?')\n",
    "print(acqland)\n",
    "\n",
    "plot = acqland.plot.barh(y='Responses')"
   ]
  }
 ],
 "metadata": {
  "kernelspec": {
   "display_name": "Python 3.10.5 64-bit",
   "language": "python",
   "name": "python3"
  },
  "language_info": {
   "codemirror_mode": {
    "name": "ipython",
    "version": 3
   },
   "file_extension": ".py",
   "mimetype": "text/x-python",
   "name": "python",
   "nbconvert_exporter": "python",
   "pygments_lexer": "ipython3",
   "version": "3.10.5"
  },
  "orig_nbformat": 4,
  "vscode": {
   "interpreter": {
    "hash": "e7370f93d1d0cde622a1f8e1c04877d8463912d04d973331ad4851f04de6915a"
   }
  }
 },
 "nbformat": 4,
 "nbformat_minor": 2
}
